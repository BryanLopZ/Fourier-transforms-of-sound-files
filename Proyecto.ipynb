{
 "cells": [
  {
   "cell_type": "code",
   "execution_count": 3,
   "metadata": {},
   "outputs": [],
   "source": [
    "import soundfile as sf #Libreria para el analisis de audio compatible con numpy\n",
    "import numpy as np\n",
    "import matplotlib.pyplot as plt\n",
    "import os #Modulo para el uso de funciones del sistema operativo\n",
    "import pandas as pd\n",
    "from scipy.signal import find_peaks"
   ]
  },
  {
   "attachments": {},
   "cell_type": "markdown",
   "metadata": {},
   "source": [
    "## Importamos los aechivos de la carpeta\n",
    "Para importar los archivos realizamos el siguiente proceso:\n",
    "1- Obtenemos los nombres de los archivos de la carpeta.\n",
    "2-. Obtenemos la ruta de cada uno de los archivos y las guardamos en un arreglo\n",
    "3-. Con la ruta y u ciclo for, importamos cada uno de los archivos al script y realizamos la operacion."
   ]
  },
  {
   "cell_type": "code",
   "execution_count": 4,
   "metadata": {},
   "outputs": [
    {
     "name": "stdout",
     "output_type": "stream",
     "text": [
      "['A10_10', 'A10_12', 'A10_14', 'A10_15', 'A10_16', 'A11_12', 'A11_14', 'A11_16', 'A11_17', 'A12_1', 'A13_1', 'A13_10', 'A13_17', 'A13_18', 'A13_20', 'A13_3', 'A13_4', 'A13_5', 'A13_6', 'A13_9', 'A14_1', 'A14_17', 'A14_18', 'A14_2', 'A14_20', 'A14_3', 'A14_4', 'A14_5', 'A14_6', 'A14_9', 'A15_1', 'A15_15', 'A15_19', 'A15_2', 'A15_3', 'A15_5', 'A15_8', 'A1_13', 'A2_10', 'A2_8', 'A3_3', 'A3_6', 'A3_8', 'A4_5', 'A5_10', 'A5_13', 'A6_10', 'A6_13', 'A9_10', 'A9_12', 'A9_14', 'A9_15', 'A9_17', 'E10_12', 'E10_13', 'E10_14', 'E10_15', 'E10_16', 'E11_12', 'E11_14', 'E11_16', 'E11_17', 'E12_1', 'E13_1', 'E13_10', 'E13_17', 'E13_18', 'E13_2', 'E13_20', 'E13_3', 'E13_4', 'E13_5', 'E13_6', 'E13_9', 'E14_1', 'E14_17', 'E14_18', 'E14_2', 'E14_20', 'E14_3', 'E14_4', 'E14_5', 'E14_6', 'E14_9', 'E15_1', 'E15_15', 'E15_17', 'E15_19', 'E15_2', 'E15_3', 'E15_5', 'E15_9', 'E1_13', 'E2_10', 'E2_8', 'E3_3', 'E3_6', 'E3_8', 'E4_5', 'E5_10', 'E5_13', 'E6_10', 'E6_13', 'E7_7', 'E8_9', 'E9_10', 'E9_12', 'E9_14', 'E9_15', 'E9_17', 'I10_10', 'I10_12', 'I10_13', 'I10_14', 'I10_15', 'I10_16', 'I11_12', 'I11_14', 'I11_16', 'I11_17', 'I12_1', 'I12_6', 'I13_1', 'I13_10', 'I13_17', 'I13_18', 'I13_2', 'I13_20', 'I13_3', 'I13_4', 'I13_5', 'I13_6', 'I13_9', 'I15_15', 'I15_17', 'I15_19', 'I15_3', 'I15_5', 'I15_8', 'I15_9', 'I1_13', 'I2_10', 'I2_8', 'I3_3', 'I3_6', 'I3_8', 'I4_5', 'I5_10', 'I6_10', 'I6_13', 'I7_7', 'I8_9', 'I9_10', 'I9_12', 'I9_14', 'I9_15', 'I9_17', 'M10_12', 'M10_13', 'M10_14', 'M10_15', 'M10_16', 'M11_14', 'M11_16', 'M11_17', 'M13_10', 'M13_17', 'M13_18', 'M13_2', 'M13_20', 'M13_3', 'M13_4', 'M13_5', 'M13_6', 'M13_9', 'M14_1', 'M14_17', 'M14_18', 'M14_2', 'M14_20', 'M14_3', 'M14_4', 'M14_5', 'M14_6', 'M14_9', 'M15_15', 'M15_17', 'M15_19', 'M15_3', 'M15_5', 'M15_9', 'M2_10', 'M2_8', 'M3_6', 'M3_8', 'M5_10', 'M5_13', 'M6_13', 'M7_7', 'M8_9', 'M9_10', 'M9_12', 'M9_14', 'M9_15', 'M9_17', 'O10_12', 'O10_13', 'O10_14', 'O10_15', 'O10_16', 'O11_12', 'O11_14', 'O11_16', 'O11_17', 'O12_1', 'O13_1', 'O13_10', 'O13_17', 'O13_18', 'O13_2', 'O13_20', 'O13_3', 'O13_4', 'O13_5', 'O13_6', 'O13_9', 'O14_1', 'O14_17', 'O14_18', 'O14_2', 'O14_20', 'O14_3', 'O14_4', 'O14_5', 'O14_6', 'O14_9', 'O15_1', 'O15_15', 'O15_17', 'O15_19', 'O15_2', 'O15_3', 'O15_5', 'O15_8', 'O15_9', 'O1_13', 'O2_10', 'O2_8', 'O3_3', 'O3_8', 'O5_10', 'O5_13', 'O6_10', 'O6_13', 'O7_7', 'O8_9', 'O9_10', 'O9_12', 'O9_14', 'O9_15', 'O9_17', 'U10_10', 'U10_13', 'U10_14', 'U10_15', 'U10_16', 'U11_12', 'U11_14', 'U11_16', 'U11_17', 'U12_1', 'U13_1', 'U13_10', 'U13_17', 'U13_18', 'U13_2', 'U13_20', 'U13_3', 'U13_4', 'U13_5', 'U13_6', 'U13_9', 'U14_18', 'U14_20', 'U15_15', 'U15_17', 'U15_19', 'U15_3', 'U15_5', 'U15_8', 'U15_9', 'U1_13', 'U2_10', 'U2_8', 'U3_3', 'U3_6', 'U3_8', 'U4_5', 'U5_10', 'U5_13', 'U6_10', 'U6_13', 'U7_7', 'U8_9', 'U9_10', 'U9_12', 'U9_15', 'U9_17']\n",
      "308\n"
     ]
    }
   ],
   "source": [
    "#Obtenemos la lista de los nombres de la carpeta con los audios\n",
    "ruta = r\"C:\\Users\\usuario\\Downloads\\Proyecto\\Phonemas\"\n",
    "Audios = os.listdir(ruta)\n",
    "#Obtenemos las direcciones de los audios concatenando los nombres de los phonemas con la ruta de la carpeta\n",
    "Phonemas = [os.path.join(ruta, archivo) for archivo in Audios]\n",
    "#Utilizamos la funcion split para eliminar el formato.wav de los nombres\n",
    "audios_sf = [nombre.split(\".wav\")[0] for nombre in Audios]\n",
    "#print(Phonemas)\n",
    "print(audios_sf)\n",
    "\n",
    "#DEclaramos una matris con el tamaño de los fonemas\n",
    "prim_arm = np.zeros(len(Phonemas))\n",
    "seg_arm = np.zeros(len(Phonemas))\n",
    "ter_arm = np.zeros(len(Phonemas))\n",
    "print(len(prim_arm))"
   ]
  },
  {
   "attachments": {},
   "cell_type": "markdown",
   "metadata": {},
   "source": [
    "Ya que tenemos las rutas guardadas en la variable Phonemas, podemos proceder importar cada uno de los audios de manera individual y aplicarle su correspondiente transformada de Fourier. Para ello, primero definimos los parametros iniciales y despues procedemos a los calculos."
   ]
  },
  {
   "cell_type": "code",
   "execution_count": 5,
   "metadata": {},
   "outputs": [],
   "source": [
    "for i in range(len(Phonemas)):\n",
    "    #X es el valor de los datos rescatados del audio, Fs es la frecuencia de muestreo utilizada en cada audio\n",
    "    x, Fs = sf.read(Phonemas[i]) \n",
    "    X = np.fft.fft(x)\n",
    "    Spectre = np.fft.fftshift(np.abs(X))\n",
    "    N = len(Spectre) \n",
    "    w = np.linspace(-Fs/2,Fs/2,N)\n",
    "    plt.figure()\n",
    "    plt.plot(w, Spectre)\n",
    "    plt.savefig(os.path.join(r\"C:\\Users\\usuario\\Downloads\\Proyecto\\Transformadas_phonemas\", f\"TF_\" + audios_sf[i]))\n",
    "    plt.close()\n",
    "    #Encontramos el indice del valor maximo del arreglo del espectro\n",
    "    picos, _= find_peaks(Spectre, distance = 100)\n",
    "    #print(picos)\n",
    "    picos_ordenados = sorted(picos, key=lambda i: Spectre[i], reverse=True) #utilizamos sorted para organizar las frecuencias\n",
    "    primero = picos_ordenados[1]\n",
    "    Segundo = picos_ordenados[3]\n",
    "    Tercero = picos_ordenados[5]\n",
    "\n",
    "    prim_arm[i] = np.abs(w[primero]) #le pongo el valor absoluto porque algunos picos quedan en frecuencias negativas, para obtener el valor real\n",
    "    seg_arm[i] = np.abs(w[Segundo])\n",
    "    ter_arm[i] = np.abs(w[Tercero])"
   ]
  },
  {
   "attachments": {},
   "cell_type": "markdown",
   "metadata": {},
   "source": [
    "Para poder almacenar los datos usamos un dataframe, donde almacenamos el indice, el nombre del archivo y el "
   ]
  },
  {
   "cell_type": "code",
   "execution_count": 6,
   "metadata": {},
   "outputs": [],
   "source": [
    "idAud = pd.DataFrame(audios_sf,columns= ['No. Paciente'])\n",
    "Primer_armonico = pd.DataFrame(prim_arm, columns= ['Frecuencia del primer armonico'])\n",
    "Segundo_armonico = pd.DataFrame(seg_arm, columns= ['Frecuencia del segundo armonico'])\n",
    "Tercer_armonico = pd.DataFrame(ter_arm, columns= ['Frecuencia tercer armonico'])\n",
    "\n",
    "dataframe = pd.concat([idAud,Primer_armonico, Segundo_armonico, Tercer_armonico], axis = 1)\n",
    "#print(dataframe)\n",
    "\n",
    "Vocal = dataframe.groupby(dataframe[\"No. Paciente\"].str[0])\n",
    "dataframes_por_letra = []\n",
    "\n",
    "#Revisar esta estructura.\n",
    "for letra, grupo in Vocal:\n",
    "    dataframes_por_letra.append(grupo)\n",
    "\n",
    "Vocales = ['a', 'e', 'i', 'm', 'o', 'u']\n",
    "\n",
    "#Guardamos cada uno de los datasets obtenidos en un excel de manera individual\n",
    "for i in range (len(Vocales)):\n",
    "    dataframes_por_letra[i].to_excel('Transformdas_{}.xlsx'.format(Vocales[i]))\n",
    "\n"
   ]
  },
  {
   "cell_type": "code",
   "execution_count": 7,
   "metadata": {},
   "outputs": [],
   "source": [
    "a = dataframes_por_letra[0]\n",
    "e = dataframes_por_letra[1]\n",
    "i = dataframes_por_letra[2]\n",
    "m = dataframes_por_letra[3]\n",
    "o = dataframes_por_letra[4]\n",
    "u = dataframes_por_letra[5]\n",
    "\n",
    "cols = []\n",
    "#Separamos los dataframes en cada uno de los 18 armonicos (3 por cada phonema)\n",
    "pa_a = a[\"Frecuencia del primer armonico\"].values\n",
    "sa_a = a[\"Frecuencia del segundo armonico\"].values\n",
    "ta_a = a[\"Frecuencia tercer armonico\"].values\n",
    "\n",
    "pa_e = e[\"Frecuencia del primer armonico\"].values\n",
    "sa_e = e[\"Frecuencia del segundo armonico\"].values\n",
    "ta_e = e[\"Frecuencia tercer armonico\"].values\n",
    "\n",
    "pa_i = i[\"Frecuencia del primer armonico\"].values\n",
    "sa_i = i[\"Frecuencia del segundo armonico\"].values\n",
    "ta_i = i[\"Frecuencia tercer armonico\"].values\n",
    "\n",
    "pa_m = m[\"Frecuencia del primer armonico\"].values\n",
    "sa_m = m[\"Frecuencia del segundo armonico\"].values\n",
    "ta_m = m[\"Frecuencia tercer armonico\"].values\n",
    "\n",
    "pa_o = o[\"Frecuencia del primer armonico\"].values\n",
    "sa_o = o[\"Frecuencia del segundo armonico\"].values\n",
    "ta_o = o[\"Frecuencia tercer armonico\"].values\n",
    "\n",
    "pa_u = u[\"Frecuencia del primer armonico\"].values\n",
    "sa_u = u[\"Frecuencia del segundo armonico\"].values\n",
    "ta_u = u[\"Frecuencia tercer armonico\"].values"
   ]
  },
  {
   "attachments": {},
   "cell_type": "markdown",
   "metadata": {},
   "source": [
    "# Calculamos la curtosis \n",
    "Primero definimos funciones para los momentos y las operaciones de kurtosis y skewness"
   ]
  },
  {
   "cell_type": "code",
   "execution_count": 8,
   "metadata": {},
   "outputs": [],
   "source": [
    "def first_momentum(datos, mean):\n",
    "    res = 0\n",
    "    for i in range(len(datos)):\n",
    "        res = res + (datos[i])\n",
    "        first = res / len(datos)\n",
    "    return first \n",
    "\n",
    "def second_momentum(datos, mean):\n",
    "    res = 0\n",
    "    for i in range(len(datos)):\n",
    "        res = res + np.power((datos[i] - mean),2)\n",
    "        second = res / len(datos)\n",
    "    return second \n",
    "\n",
    "def third_momentum(datos, mean):\n",
    "    res = 0\n",
    "    for i in range(len(datos)):\n",
    "        res = res + np.power((datos[i] - mean),3)\n",
    "        third = res / len(datos)\n",
    "    return third \n",
    "\n",
    "def fourth_momentum(datos, mean):\n",
    "    res = 0\n",
    "    for i in range(len(datos)):\n",
    "        res = res + np.power((datos[i] - mean),4)\n",
    "        fourth = res / len(datos)\n",
    "    return fourth \n",
    "\n",
    "def kurt(second, fourth):\n",
    "    kurtosis = fourth / (np.power(np.sqrt(second),4))\n",
    "    return kurtosis\n",
    "\n",
    "def skew(second, third):\n",
    "    skewn = third / (np.power(np.sqrt(second),3))\n",
    "    return skewn\n"
   ]
  },
  {
   "attachments": {},
   "cell_type": "markdown",
   "metadata": {},
   "source": [
    "Aplicamos las funciones antes definidas"
   ]
  },
  {
   "cell_type": "code",
   "execution_count": 10,
   "metadata": {},
   "outputs": [
    {
     "name": "stdout",
     "output_type": "stream",
     "text": [
      "[[ 185333.8681983    30724.53417476    5378.67211757   48891.17383658\n",
      "    26172.78003083   17613.28873292]\n",
      " [ 140967.2524719    19013.19898779   24980.72103602   22461.29840802\n",
      "    40892.90513874   35636.09314355]\n",
      " [ 120681.89137911  598885.26644381 1232550.8613131   256327.67139985\n",
      "    72055.82037643   65552.11072814]]\n"
     ]
    }
   ],
   "source": [
    "means = np.array([  [541.0361,447.9764,276.9061,442.6011,323.0901,236.5687],\n",
    "                    [558.624,308.033, 361.05,367.279,385.839,381.066], \n",
    "                    [739.403,797.573,1281.84,646.697,600.928,735.351]])\n",
    "\n",
    "segundo = np.empty((3, 6))\n",
    "\n",
    "segundo[0,0] = second_momentum(pa_a, means[0,0])\n",
    "segundo[0,1] = second_momentum(pa_e, means[0,1])\n",
    "segundo[0,2] = second_momentum(pa_i, means[0,2])\n",
    "segundo[0,3] = second_momentum(pa_m, means[0,3])\n",
    "segundo[0,4] = second_momentum(pa_o, means[0,4])\n",
    "segundo[0,5] = second_momentum(pa_u, means[0,5])\n",
    "\n",
    "segundo[1,0] = second_momentum(sa_a, means[1,0])\n",
    "segundo[1,1] = second_momentum(sa_e, means[1,1])\n",
    "segundo[1,2] = second_momentum(sa_i, means[1,2])\n",
    "segundo[1,3] = second_momentum(sa_m, means[1,3])\n",
    "segundo[1,4] = second_momentum(sa_o, means[1,4])\n",
    "segundo[1,5] = second_momentum(sa_u, means[1,5])\n",
    "\n",
    "segundo[2,0] = second_momentum(ta_a, means[2,0])\n",
    "segundo[2,1] = second_momentum(ta_e, means[2,1])\n",
    "segundo[2,2] = second_momentum(ta_i, means[2,2])\n",
    "segundo[2,3] = second_momentum(ta_m, means[2,3])\n",
    "segundo[2,4] = second_momentum(ta_o, means[2,4])\n",
    "segundo[2,5] = second_momentum(ta_u, means[2,5])\n",
    "\n",
    "print(segundo)\n"
   ]
  },
  {
   "attachments": {},
   "cell_type": "markdown",
   "metadata": {},
   "source": [
    "calculamos los terceros momentos"
   ]
  },
  {
   "cell_type": "code",
   "execution_count": 11,
   "metadata": {},
   "outputs": [],
   "source": [
    "tercero = np.empty((3, 6))\n",
    "\n",
    "tercero[0,0] = third_momentum(pa_a, means[0,0])\n",
    "tercero[0,1] = third_momentum(pa_e, means[0,1])\n",
    "tercero[0,2] = third_momentum(pa_i, means[0,2])\n",
    "tercero[0,3] = third_momentum(pa_m, means[0,3])\n",
    "tercero[0,4] = third_momentum(pa_o, means[0,4])\n",
    "tercero[0,5] = third_momentum(pa_u, means[0,5])\n",
    "\n",
    "tercero[1,0] = third_momentum(sa_a, means[1,0])\n",
    "tercero[1,1] = third_momentum(sa_e, means[1,1])\n",
    "tercero[1,2] = third_momentum(sa_i, means[1,2])\n",
    "tercero[1,3] = third_momentum(sa_m, means[1,3])\n",
    "tercero[1,4] = third_momentum(sa_o, means[1,4])\n",
    "tercero[1,5] = third_momentum(sa_u, means[1,5])\n",
    "\n",
    "tercero[2,0] = third_momentum(ta_a, means[2,0])\n",
    "tercero[2,1] = third_momentum(ta_e, means[2,1])\n",
    "tercero[2,2] = third_momentum(ta_i, means[2,2])\n",
    "tercero[2,3] = third_momentum(ta_m, means[2,3])\n",
    "tercero[2,4] = third_momentum(ta_o, means[2,4])\n",
    "tercero[2,5] = third_momentum(ta_u, means[2,5])"
   ]
  },
  {
   "attachments": {},
   "cell_type": "markdown",
   "metadata": {},
   "source": [
    "calculamos el cuarto momento"
   ]
  },
  {
   "cell_type": "code",
   "execution_count": 12,
   "metadata": {},
   "outputs": [
    {
     "name": "stdout",
     "output_type": "stream",
     "text": [
      "[[8.72016990e+10 2.36341996e+10 8.81930736e+07 3.08884713e+09\n",
      "  2.02738490e+09 1.05411750e+09]\n",
      " [6.89327457e+10 1.12423159e+09 9.75590948e+08 2.94676149e+09\n",
      "  5.46523628e+09 3.46856846e+09]\n",
      " [3.80969716e+10 2.09248075e+12 2.65226458e+12 8.15015480e+11\n",
      "  1.13100217e+10 1.44983406e+10]]\n"
     ]
    }
   ],
   "source": [
    "cuarto = np.empty((3, 6))\n",
    "\n",
    "cuarto[0,0] = fourth_momentum(pa_a, means[0,0])\n",
    "cuarto[0,1] = fourth_momentum(pa_e, means[0,1])\n",
    "cuarto[0,2] = fourth_momentum(pa_i, means[0,2])\n",
    "cuarto[0,3] = fourth_momentum(pa_m, means[0,3])\n",
    "cuarto[0,4] = fourth_momentum(pa_o, means[0,4])\n",
    "cuarto[0,5] = fourth_momentum(pa_u, means[0,5])\n",
    "\n",
    "cuarto[1,0] = fourth_momentum(sa_a, means[1,0])\n",
    "cuarto[1,1] = fourth_momentum(sa_e, means[1,1])\n",
    "cuarto[1,2] = fourth_momentum(sa_i, means[1,2])\n",
    "cuarto[1,3] = fourth_momentum(sa_m, means[1,3])\n",
    "cuarto[1,4] = fourth_momentum(sa_o, means[1,4])\n",
    "cuarto[1,5] = fourth_momentum(sa_u, means[1,5])\n",
    "\n",
    "cuarto[2,0] = fourth_momentum(ta_a, means[2,0])\n",
    "cuarto[2,1] = fourth_momentum(ta_e, means[2,1])\n",
    "cuarto[2,2] = fourth_momentum(ta_i, means[2,2])\n",
    "cuarto[2,3] = fourth_momentum(ta_m, means[2,3])\n",
    "cuarto[2,4] = fourth_momentum(ta_o, means[2,4])\n",
    "cuarto[2,5] = fourth_momentum(ta_u, means[2,5])\n",
    "\n",
    "print(cuarto)"
   ]
  },
  {
   "attachments": {},
   "cell_type": "markdown",
   "metadata": {},
   "source": [
    "calculamos la curtosis y skewness"
   ]
  },
  {
   "cell_type": "code",
   "execution_count": 13,
   "metadata": {},
   "outputs": [
    {
     "name": "stdout",
     "output_type": "stream",
     "text": [
      "[[ 2.53872328 25.03630795  3.04848693  1.29221711  2.95962371  3.3978806 ]\n",
      " [ 3.46887865  3.10989265  1.56335578  5.84083946  3.26823301  2.73130437]\n",
      " [ 2.61581025  5.83410464  1.74585088 12.40437461  2.17833819  3.37399891]]\n"
     ]
    }
   ],
   "source": [
    "curto = np.empty((3, 6))\n",
    "sk = np.empty((3, 6))\n",
    "\n",
    "for i in range(0,3):\n",
    "    for j in range(0,6):\n",
    "        curto[i,j] = kurt(segundo[i,j], cuarto[i,j])\n",
    "        sk[i,j] = skew(segundo[i,j], tercero[i,j])\n",
    "\n",
    "print(curto)"
   ]
  },
  {
   "attachments": {},
   "cell_type": "markdown",
   "metadata": {},
   "source": [
    "Pasamos a graficar los datos obtenidos"
   ]
  },
  {
   "cell_type": "code",
   "execution_count": 14,
   "metadata": {},
   "outputs": [
    {
     "data": {
      "image/png": "[encoded data removed]",
      "text/plain": [
       "<Figure size 640x480 with 1 Axes>"
      ]
     },
     "metadata": {},
     "output_type": "display_data"
    }
   ],
   "source": [
    "kurtosis_1a = curto[0,:]\n",
    "kurtosis_2a = curto[1,:]\n",
    "kurtosis_3a = curto[2,:]\n",
    "\n",
    "plt.scatter(Vocales, kurtosis_1a, marker = \"s\", label = \"Primer armonico\")\n",
    "plt.scatter(Vocales, kurtosis_2a, marker = \"P\", label = \"Segundo armonico\")\n",
    "plt.scatter(Vocales, kurtosis_3a, marker = \"d\", label = \"Tercer armonico\")\n",
    "\n",
    "plt.xlabel(\"Phonema\")\n",
    "plt.ylabel(\"Kurtosis\")\n",
    "plt.legend()\n",
    "plt.show()"
   ]
  },
  {
   "cell_type": "code",
   "execution_count": 15,
   "metadata": {},
   "outputs": [
    {
     "data": {
      "image/png": "[encoded data removed]",
      "text/plain": [
       "<Figure size 640x480 with 1 Axes>"
      ]
     },
     "metadata": {},
     "output_type": "display_data"
    }
   ],
   "source": [
    "skew_1a = sk[0,:]\n",
    "skew_2a = sk[1,:]\n",
    "skew_3a = sk[2,:]\n",
    "\n",
    "plt.scatter(Vocales, skew_1a, marker = \"s\", label = \"Primer armonico\")\n",
    "plt.scatter(Vocales, skew_2a, marker = \"P\", label = \"Segundo armonico\")\n",
    "plt.scatter(Vocales, skew_3a, marker= \"d\", label = \"Tercer armonico\" )\n",
    "\n",
    "plt.xlabel(\"Phonemas\")\n",
    "plt.ylabel(\"Skewness\")\n",
    "plt.legend()\n",
    "plt.show()"
   ]
  },
  {
   "cell_type": "code",
   "execution_count": 20,
   "metadata": {},
   "outputs": [
    {
     "data": {
      "image/png": "[encoded data removed]",
      "text/plain": [
       "<Figure size 640x480 with 1 Axes>"
      ]
     },
     "metadata": {},
     "output_type": "display_data"
    }
   ],
   "source": [
    "plt.scatter(kurtosis_1a, skew_1a, marker = \"s\", label = \"Primer armonico\")\n",
    "plt.scatter(kurtosis_2a, skew_2a, marker = \"P\", label = \"Segundo armonico\")\n",
    "plt.scatter(kurtosis_3a, skew_3a, marker= \"d\", label = \"Tercer armonico\" )\n",
    "for i in range(len(kurtosis_1a)):\n",
    "    plt.text(kurtosis_1a[i], skew_1a[i], Vocales[i] )\n",
    "    plt.text(kurtosis_2a[i], skew_2a[i], Vocales[i] )\n",
    "    plt.text(kurtosis_3a[i], skew_3a[i], Vocales[i] )\n",
    "    \n",
    "plt.xlabel(\"Kurtosis\")\n",
    "plt.ylabel(\"Skewness\")\n",
    "plt.legend()\n",
    "plt.show()"
   ]
  }
 ],
 "metadata": {
  "kernelspec": {
   "display_name": "Python 3",
   "language": "python",
   "name": "python3"
  },
  "language_info": {
   "codemirror_mode": {
    "name": "ipython",
    "version": 3
   },
   "file_extension": ".py",
   "mimetype": "text/x-python",
   "name": "python",
   "nbconvert_exporter": "python",
   "pygments_lexer": "ipython3",
   "version": "3.11.2"
  },
  "orig_nbformat": 4
 },
 "nbformat": 4,
 "nbformat_minor": 2
}
