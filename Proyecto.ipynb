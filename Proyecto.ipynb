{
 "cells": [
  {
   "cell_type": "code",
   "execution_count": 1,
   "metadata": {},
   "outputs": [],
   "source": [
    "import soundfile as sf #Libreria para el analisis de audio compatible con numpy\n",
    "import numpy as np\n",
    "import matplotlib.pyplot as plt\n",
    "import os #Modulo para el uso de funciones del sistema operativo\n",
    "import pandas as pd"
   ]
  },
  {
   "attachments": {},
   "cell_type": "markdown",
   "metadata": {},
   "source": [
    "## Importamos los aechivos de la carpeta\n",
    "Para importar los archivos realizamos el siguiente proceso:\n",
    "1- Obtenemos los nombres de los archivos de la carpeta.\n",
    "2-. Obtenemos la ruta de cada uno de los archivos y las guardamos en un arreglo\n",
    "3-. Con la ruta y u ciclo for, importamos cada uno de los archivos al script y realizamos la operacion."
   ]
  },
  {
   "cell_type": "code",
   "execution_count": 7,
   "metadata": {},
   "outputs": [
    {
     "name": "stdout",
     "output_type": "stream",
     "text": [
      "['A10_10', 'A10_12', 'A10_14', 'A10_15', 'A10_16', 'A11_12', 'A11_14', 'A11_16', 'A11_17', 'A12_1', 'A13_1', 'A13_10', 'A13_17', 'A13_18', 'A13_20', 'A13_3', 'A13_4', 'A13_5', 'A13_6', 'A13_9', 'A14_1', 'A14_17', 'A14_18', 'A14_2', 'A14_20', 'A14_3', 'A14_4', 'A14_5', 'A14_6', 'A14_9', 'A15_1', 'A15_15', 'A15_19', 'A15_2', 'A15_3', 'A15_5', 'A15_8', 'A1_13', 'A2_10', 'A2_8', 'A3_3', 'A3_6', 'A3_8', 'A4_5', 'A5_10', 'A5_13', 'A6_10', 'A6_13', 'A9_10', 'A9_12', 'A9_14', 'A9_15', 'A9_17', 'E10_12', 'E10_13', 'E10_14', 'E10_15', 'E10_16', 'E11_12', 'E11_14', 'E11_16', 'E11_17', 'E12_1', 'E13_1', 'E13_10', 'E13_17', 'E13_18', 'E13_2', 'E13_20', 'E13_3', 'E13_4', 'E13_5', 'E13_6', 'E13_9', 'E14_1', 'E14_17', 'E14_18', 'E14_2', 'E14_20', 'E14_3', 'E14_4', 'E14_5', 'E14_6', 'E14_9', 'E15_1', 'E15_15', 'E15_17', 'E15_19', 'E15_2', 'E15_3', 'E15_5', 'E15_9', 'E1_13', 'E2_10', 'E2_8', 'E3_3', 'E3_6', 'E3_8', 'E4_5', 'E5_10', 'E5_13', 'E6_10', 'E6_13', 'E7_7', 'E8_9', 'E9_10', 'E9_12', 'E9_14', 'E9_15', 'E9_17', 'I10_10', 'I10_12', 'I10_13', 'I10_14', 'I10_15', 'I10_16', 'I11_12', 'I11_14', 'I11_16', 'I11_17', 'I12_1', 'I12_6', 'I13_1', 'I13_10', 'I13_17', 'I13_18', 'I13_2', 'I13_20', 'I13_3', 'I13_4', 'I13_5', 'I13_6', 'I13_9', 'I15_15', 'I15_17', 'I15_19', 'I15_3', 'I15_5', 'I15_8', 'I15_9', 'I1_13', 'I2_10', 'I2_8', 'I3_3', 'I3_6', 'I3_8', 'I4_5', 'I5_10', 'I6_10', 'I6_13', 'I7_7', 'I8_9', 'I9_10', 'I9_12', 'I9_14', 'I9_15', 'I9_17', 'M10_12', 'M10_13', 'M10_14', 'M10_15', 'M10_16', 'M11_14', 'M11_16', 'M11_17', 'M13_10', 'M13_17', 'M13_18', 'M13_2', 'M13_20', 'M13_3', 'M13_4', 'M13_5', 'M13_6', 'M13_9', 'M14_1', 'M14_17', 'M14_18', 'M14_2', 'M14_20', 'M14_3', 'M14_4', 'M14_5', 'M14_6', 'M14_9', 'M15_15', 'M15_17', 'M15_19', 'M15_3', 'M15_5', 'M15_9', 'M2_10', 'M2_8', 'M3_6', 'M3_8', 'M5_10', 'M5_13', 'M6_13', 'M7_7', 'M8_9', 'M9_10', 'M9_12', 'M9_14', 'M9_15', 'M9_17', 'O10_12', 'O10_13', 'O10_14', 'O10_15', 'O10_16', 'O11_12', 'O11_14', 'O11_16', 'O11_17', 'O12_1', 'O13_1', 'O13_10', 'O13_17', 'O13_18', 'O13_2', 'O13_20', 'O13_3', 'O13_4', 'O13_5', 'O13_6', 'O13_9', 'O14_1', 'O14_17', 'O14_18', 'O14_2', 'O14_20', 'O14_3', 'O14_4', 'O14_5', 'O14_6', 'O14_9', 'O15_1', 'O15_15', 'O15_17', 'O15_19', 'O15_2', 'O15_3', 'O15_5', 'O15_8', 'O15_9', 'O1_13', 'O2_10', 'O2_8', 'O3_3', 'O3_8', 'O5_10', 'O5_13', 'O6_10', 'O6_13', 'O7_7', 'O8_9', 'O9_10', 'O9_12', 'O9_14', 'O9_15', 'O9_17', 'U10_10', 'U10_13', 'U10_14', 'U10_15', 'U10_16', 'U11_12', 'U11_14', 'U11_16', 'U11_17', 'U12_1', 'U13_1', 'U13_10', 'U13_17', 'U13_18', 'U13_2', 'U13_20', 'U13_3', 'U13_4', 'U13_5', 'U13_6', 'U13_9', 'U14_18', 'U14_20', 'U15_15', 'U15_17', 'U15_19', 'U15_3', 'U15_5', 'U15_8', 'U15_9', 'U1_13', 'U2_10', 'U2_8', 'U3_3', 'U3_6', 'U3_8', 'U4_5', 'U5_10', 'U5_13', 'U6_10', 'U6_13', 'U7_7', 'U8_9', 'U9_10', 'U9_12', 'U9_15', 'U9_17']\n",
      "308\n"
     ]
    }
   ],
   "source": [
    "#Obtenemos la lista de los nombres de la carpeta con los audios\n",
    "ruta = r\"C:\\Users\\usuario\\Downloads\\Proyecto\\Phonemas\"\n",
    "Audios = os.listdir(ruta)\n",
    "#Obtenemos las direcciones de los audios concatenando los nombres de los phonemas con la ruta de la carpeta\n",
    "Phonemas = [os.path.join(ruta, archivo) for archivo in Audios]\n",
    "#Utilizamos la funcion split para eliminar el formato.wav de los nombres\n",
    "audios_sf = [nombre.split(\".wav\")[0] for nombre in Audios]\n",
    "#print(Phonemas)\n",
    "print(audios_sf)\n",
    "\n",
    "#DEclaramos una matris con el tamaño de los fonemas\n",
    "Max_freq = np.zeros(len(Phonemas))\n",
    "Seg_freq = np.zeros(len(Phonemas))\n",
    "ter_freq = np.zeros(len(Phonemas))\n",
    "print(len(Max_freq))"
   ]
  },
  {
   "attachments": {},
   "cell_type": "markdown",
   "metadata": {},
   "source": [
    "Ya que tenemos las rutas guardadas en la variable Phonemas, podemos proceder importar cada uno de los audios de manera individual y aplicarle su correspondiente transformada de Fourier. Para ello, primero definimos los parametros iniciales y despues procedemos a los calculos."
   ]
  },
  {
   "cell_type": "code",
   "execution_count": 13,
   "metadata": {},
   "outputs": [],
   "source": [
    "for i in range(len(Phonemas)):\n",
    "    #X es el valor de los datos rescatados del audio, Fs es la frecuencia de muestreo utilizada en cada audio\n",
    "    x, Fs = sf.read(Phonemas[i]) \n",
    "    X = np.fft.fft(x)\n",
    "    Spectre = np.fft.fftshift(np.abs(X))\n",
    "    N = len(Spectre) \n",
    "    w = np.linspace(-Fs/2,Fs/2,N)\n",
    "    plt.figure()\n",
    "    plt.plot(w, Spectre)\n",
    "    plt.savefig(os.path.join(r\"C:\\Users\\usuario\\Downloads\\Proyecto\\Transformadas_phonemas\", f\"TF_\" + audios_sf[i]))\n",
    "    plt.close()\n",
    "    #Encontramos el indice del valor maximo del arreglo del espectro\n",
    "    in_max = Spectre.argmax()\n",
    "    Freq_max = w[in_max]\n",
    "    Max_freq[i] = (np.abs(Freq_max))\n",
    "\n",
    "    piv = Spectre[in_max]\n",
    "\n",
    "    Spectre = np.delete(Spectre, np.where(Spectre == piv))\n",
    "    in_max  = Spectre.argmax()\n",
    "    seg_arm = w[in_max]\n",
    "    Seg_freq[i] = (np.abs(seg_arm))"
   ]
  },
  {
   "cell_type": "code",
   "execution_count": 18,
   "metadata": {},
   "outputs": [
    {
     "name": "stdout",
     "output_type": "stream",
     "text": [
      "[ 141.29919393  126.78481013  119.83380713  129.69502408  772.41197067\n",
      "  574.24615968  721.49384188  760.11371091  962.1611951   284.3943662\n",
      "  173.08110459  637.32076607  157.74240232  147.10327456  159.41176471\n",
      "  327.74438469  149.24721798  619.99739278  303.88294879  162.92682927\n",
      "  192.28699552 1376.10062893  126.5474553  1455.86399572 1175.1538892\n",
      "  166.06757728 1422.32363567 1316.69266771 1427.76432607  315.65477037\n",
      "  225.41436464  246.84298308 1551.51738769  248.42767296  971.09107864\n",
      "  462.49800096  668.32210004  708.20189274  180.58757903  173.71472014\n",
      "  783.58423626  273.03482587  908.00040663  177.33522997  293.44558028\n",
      " 1069.07378336  281.33037694  841.12362106  801.06453759  187.59455371\n",
      "  198.41966637  813.38448959  205.55635526  317.48819849  375.53537776\n",
      "  425.26047204  332.00703248  328.2859711   375.67544386  368.63718843\n",
      "  301.875       411.33603239  284.17491542  389.66458032  504.67716176\n",
      "  187.29817008  316.61092531  368.17741415  370.58445729  365.55492745\n",
      "  321.25984252  352.86240375  311.45113524  498.51902483  433.40601005\n",
      "  510.12433393  450.34071037 1521.54026167  464.54028368  583.81281166\n",
      "  611.11673585  467.27019499  521.38188609  453.93146002  480.8138892\n",
      "  532.56217467  530.34947885  582.85924023  548.86647142  492.50814332\n",
      "  501.5027909   515.69979716  379.90834756  460.9295488   458.2549677\n",
      "  483.53672577  485.54913295  491.30850048  192.63014233  273.45550313\n",
      "  544.99514091  601.09798083  551.02648021  523.92276229  437.97495451\n",
      "  392.82440749  387.54001093  202.6038202   458.59872611  498.93421536\n",
      "  161.74771558  312.49159607  186.45027364  271.84466019  303.72634884\n",
      "  148.29517261  209.95171111  371.35072012  308.6115993   379.65072134\n",
      "  303.55912744  314.83744806  400.81959216  171.12299465  188.16\n",
      "  331.59349094  391.51398264  359.63028662  323.0753909   312.4042879\n",
      "  355.01900291  313.44017304  165.02946955  265.10220919  245.93672277\n",
      "  279.58762887  261.81625066  491.26121871  239.8433676   259.31034483\n",
      "  203.91010415  220.2992317   235.73355468  292.94945886  294.40465068\n",
      "  246.49277772  200.47231698  277.81864033  290.86851404  282.02115159\n",
      "  323.0109576   289.03032572  201.66773573  193.75672766  208.47651775\n",
      "  402.59968382  223.88859132  301.25349632  168.25613079  261.5676017\n",
      "  299.70267592  144.07894737  193.4083284   151.06732348  205.16149976\n",
      "  168.76818623  180.46117857  164.04589885  190.22000192  183.69578423\n",
      "  324.65813851  166.5045711   170.71129707  163.96103896  165.98860862\n",
      "  461.95995785  379.03225806  149.86435956  339.22685046  141.10186286\n",
      "  187.41437574  151.68090468  162.82542362  401.79910045  332.09099088\n",
      "  248.36054137  257.86763303  285.32974428  246.0383653   495.45873371\n",
      "  259.57950305  229.48553372  225.68770497  214.51104101  211.87572332\n",
      "  278.09436973  261.76218991  277.13372889  172.52982563  293.85823384\n",
      "  209.11190426  199.3869119   201.99320751  234.45825933  242.26579521\n",
      "  378.39551844  385.42262927  407.76699029  363.48701099  358.96244677\n",
      "  386.03281447  373.3121525   457.41000468  403.62187613  282.21377271\n",
      "  380.38768529  489.85370458  184.2077145   165.49006731  364.44051305\n",
      "  397.96982549  499.15397631  492.30769231  358.85602405  489.61703016\n",
      "  497.11113629  429.41176471  444.723093    465.05573184  485.43932008\n",
      "  466.61565927  600.29175784  521.55708211  483.36035827  833.61949146\n",
      "  472.29240357  486.78549478  523.79195869  521.82174455  584.74318711\n",
      "  530.03636364  495.38158013  500.61591525  488.20905035  507.40802397\n",
      "  398.9960026   447.43276284  464.80493672  528.38063439  463.22440517\n",
      "  282.90852918  269.71825885  610.31217117  557.73420479  171.8052307\n",
      "  439.79057592  447.81382228  400.60843808  408.58243169  450.7628294\n",
      "  485.60618523  301.24299293  181.87442004  394.51715964  330.21276596\n",
      "  150.16438566  469.59968292  375.46094536  301.36636445  207.05979212\n",
      "  296.15197272  417.06496725  356.26102293  185.57422969  329.57913456\n",
      "  205.85606897  358.42293907  369.84469814  345.76630723  348.57076727\n",
      "  326.71976828  340.6052076   302.15364834  317.26495726  294.39055251\n",
      "  264.80336827  294.18034534  256.03439851  541.01734784  491.09065988\n",
      "  269.21807984  422.20983032  232.7872148   243.88586957  287.20271801\n",
      "  290.632685    275.02175805  192.02239328  292.724376    557.97408317\n",
      "  311.97045405  583.51497538  171.44881332  431.22387479  393.91115253\n",
      "  192.49668513  434.76107948  249.3765586 ]\n"
     ]
    }
   ],
   "source": [
    "print(Max_freq)\n",
    "#print(Seg_freq)"
   ]
  },
  {
   "attachments": {},
   "cell_type": "markdown",
   "metadata": {},
   "source": [
    "Para poder almacenar los datos usamos un dataframe, donde almacenamos el indice, el nombre del archivo y el "
   ]
  },
  {
   "cell_type": "code",
   "execution_count": 39,
   "metadata": {},
   "outputs": [],
   "source": [
    "idAud = pd.DataFrame(audios_sf,columns= ['No. Paciente'])\n",
    "Freqs = pd.DataFrame(Max_freq, columns= ['Frecuencia Maxima alcanzada'])\n",
    "dataframe = pd.concat([idAud,Freqs], axis = 1)\n",
    "#print(dataframe)\n",
    "\n",
    "Vocal = dataframe.groupby(dataframe[\"No. Paciente\"].str[0])\n",
    "dataframes_por_letra = []\n",
    "\n",
    "#Revisar esta estructura.\n",
    "for letra, grupo in Vocal:\n",
    "    dataframes_por_letra.append(grupo)\n",
    "\n",
    "Vocales = ['a', 'e', 'i', 'm', 'o', 'u']\n",
    "\n",
    "#Guardamos cada uno de los datasets obtenidos en un excel de manera individual\n",
    "for i in range (len(Vocales)):\n",
    "    dataframes_por_letra[i].to_excel('Transformdas_{}.xlsx'.format(Vocales[i]))\n",
    "\n"
   ]
  }
 ],
 "metadata": {
  "kernelspec": {
   "display_name": "Python 3",
   "language": "python",
   "name": "python3"
  },
  "language_info": {
   "codemirror_mode": {
    "name": "ipython",
    "version": 3
   },
   "file_extension": ".py",
   "mimetype": "text/x-python",
   "name": "python",
   "nbconvert_exporter": "python",
   "pygments_lexer": "ipython3",
   "version": "3.11.2"
  },
  "orig_nbformat": 4
 },
 "nbformat": 4,
 "nbformat_minor": 2
}
